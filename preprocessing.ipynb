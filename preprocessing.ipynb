{
 "cells": [
  {
   "cell_type": "code",
   "execution_count": 144,
   "id": "76d9555d",
   "metadata": {},
   "outputs": [],
   "source": [
    "import pandas as pd\n",
    "import numpy as np\n",
    "import random\n",
    "import os\n",
    "import matplotlib.pyplot as plt\n",
    "from keras import Sequential\n",
    "from keras.layers import Dense\n",
    "from sklearn.metrics import mean_squared_error"
   ]
  },
  {
   "cell_type": "code",
   "execution_count": 145,
   "id": "db68324f",
   "metadata": {},
   "outputs": [],
   "source": [
    "def seed_everything(seed):\n",
    "    random.seed(seed)\n",
    "    os.environ['PYTHONHASHSEED'] = str(seed)\n",
    "    np.random.seed(seed)\n",
    "seed_everything(42) # Seed 고정"
   ]
  },
  {
   "cell_type": "code",
   "execution_count": 146,
   "id": "4fc0f1ee",
   "metadata": {},
   "outputs": [],
   "source": [
    "df = pd.read_csv(\"./train.csv\")\n",
    "X_test = pd.read_csv(\"./test.csv\")"
   ]
  },
  {
   "cell_type": "code",
   "execution_count": 147,
   "id": "5b318b91",
   "metadata": {},
   "outputs": [],
   "source": [
    "X_train = df.iloc[ : , 1 : 57]"
   ]
  },
  {
   "cell_type": "code",
   "execution_count": 148,
   "id": "682dc92e",
   "metadata": {},
   "outputs": [],
   "source": [
    "y_train = df.iloc[:, 57:]"
   ]
  },
  {
   "cell_type": "code",
   "execution_count": 149,
   "id": "430fe66a",
   "metadata": {},
   "outputs": [],
   "source": [
    "X_test = X_test.iloc[ : , 1 : ]"
   ]
  },
  {
   "cell_type": "code",
   "execution_count": 150,
   "id": "9b81423b",
   "metadata": {},
   "outputs": [],
   "source": [
    "train_df = X_train.drop(['X_04', 'X_10', 'X_11', 'X_23', 'X_39', 'X_40', 'X_47', 'X_48'], axis = 1)\n",
    "X_test = X_test.drop(['X_04', 'X_10', 'X_11', 'X_23', 'X_39', 'X_40', 'X_47', 'X_48'], axis = 1)"
   ]
  },
  {
   "cell_type": "code",
   "execution_count": 151,
   "id": "2f1c32ff",
   "metadata": {},
   "outputs": [],
   "source": [
    "def search_outlier(df) :\n",
    "    quar1 = df.quantile(0.25)\n",
    "    quar3 = df.quantile(0.75)\n",
    "    IQR = quar3 - quar1\n",
    "    condition = (df < (quar1 - 1.5 * IQR)) | (df > (quar3 + 1.5 * IQR))\n",
    "    condition = condition.any(axis = 1)\n",
    "    search_df = df[condition]\n",
    "    idx = search_df.index\n",
    "    \n",
    "    return df.drop(idx, axis = 0, inplace = True), y_train.drop(idx, axis = 0, inplace = True)"
   ]
  },
  {
   "cell_type": "code",
   "execution_count": 152,
   "id": "cdea9a18",
   "metadata": {},
   "outputs": [
    {
     "data": {
      "text/plain": [
       "(None, None)"
      ]
     },
     "execution_count": 152,
     "metadata": {},
     "output_type": "execute_result"
    }
   ],
   "source": [
    "search_outlier(train_df)"
   ]
  },
  {
   "cell_type": "code",
   "execution_count": 153,
   "id": "d8c1d7d3",
   "metadata": {},
   "outputs": [
    {
     "name": "stdout",
     "output_type": "stream",
     "text": [
      "<class 'pandas.core.frame.DataFrame'>\n",
      "Int64Index: 11011 entries, 221 to 39591\n",
      "Data columns (total 48 columns):\n",
      " #   Column  Non-Null Count  Dtype  \n",
      "---  ------  --------------  -----  \n",
      " 0   X_01    11011 non-null  float64\n",
      " 1   X_02    11011 non-null  float64\n",
      " 2   X_03    11011 non-null  float64\n",
      " 3   X_05    11011 non-null  float64\n",
      " 4   X_06    11011 non-null  float64\n",
      " 5   X_07    11011 non-null  float64\n",
      " 6   X_08    11011 non-null  float64\n",
      " 7   X_09    11011 non-null  float64\n",
      " 8   X_12    11011 non-null  float64\n",
      " 9   X_13    11011 non-null  float64\n",
      " 10  X_14    11011 non-null  float64\n",
      " 11  X_15    11011 non-null  float64\n",
      " 12  X_16    11011 non-null  float64\n",
      " 13  X_17    11011 non-null  float64\n",
      " 14  X_18    11011 non-null  float64\n",
      " 15  X_19    11011 non-null  float64\n",
      " 16  X_20    11011 non-null  float64\n",
      " 17  X_21    11011 non-null  float64\n",
      " 18  X_22    11011 non-null  float64\n",
      " 19  X_24    11011 non-null  float64\n",
      " 20  X_25    11011 non-null  float64\n",
      " 21  X_26    11011 non-null  float64\n",
      " 22  X_27    11011 non-null  float64\n",
      " 23  X_28    11011 non-null  float64\n",
      " 24  X_29    11011 non-null  float64\n",
      " 25  X_30    11011 non-null  float64\n",
      " 26  X_31    11011 non-null  float64\n",
      " 27  X_32    11011 non-null  float64\n",
      " 28  X_33    11011 non-null  float64\n",
      " 29  X_34    11011 non-null  float64\n",
      " 30  X_35    11011 non-null  float64\n",
      " 31  X_36    11011 non-null  float64\n",
      " 32  X_37    11011 non-null  float64\n",
      " 33  X_38    11011 non-null  float64\n",
      " 34  X_41    11011 non-null  float64\n",
      " 35  X_42    11011 non-null  float64\n",
      " 36  X_43    11011 non-null  float64\n",
      " 37  X_44    11011 non-null  float64\n",
      " 38  X_45    11011 non-null  float64\n",
      " 39  X_46    11011 non-null  int64  \n",
      " 40  X_49    11011 non-null  float64\n",
      " 41  X_50    11011 non-null  float64\n",
      " 42  X_51    11011 non-null  float64\n",
      " 43  X_52    11011 non-null  float64\n",
      " 44  X_53    11011 non-null  float64\n",
      " 45  X_54    11011 non-null  float64\n",
      " 46  X_55    11011 non-null  float64\n",
      " 47  X_56    11011 non-null  float64\n",
      "dtypes: float64(47), int64(1)\n",
      "memory usage: 4.1 MB\n"
     ]
    }
   ],
   "source": [
    "train_df.info()"
   ]
  },
  {
   "cell_type": "code",
   "execution_count": 154,
   "id": "fe7f60f1",
   "metadata": {},
   "outputs": [],
   "source": [
    "from sklearn.model_selection import train_test_split\n",
    "X_tr, X_val, y_tr, y_val = train_test_split(train_df, y_train, test_size = 0.2)"
   ]
  },
  {
   "cell_type": "code",
   "execution_count": 155,
   "id": "f6bb678a",
   "metadata": {},
   "outputs": [],
   "source": [
    "from sklearn.preprocessing import MinMaxScaler\n",
    "scaler = MinMaxScaler()\n",
    "scaler.fit(X_tr)\n",
    "X_tr = scaler.transform(X_tr)\n",
    "X_val = scaler.transform(X_val)\n",
    "X_test = scaler.transform(X_test)"
   ]
  },
  {
   "cell_type": "code",
   "execution_count": 156,
   "id": "174a2b2f",
   "metadata": {},
   "outputs": [],
   "source": [
    "from sklearn.ensemble import RandomForestRegressor\n",
    "modelRF = RandomForestRegressor()\n",
    "modelRF.fit(X_tr, y_tr)\n",
    "\n",
    "predRF = modelRF.predict(X_val)"
   ]
  },
  {
   "cell_type": "code",
   "execution_count": 157,
   "id": "52a9bfb5",
   "metadata": {},
   "outputs": [
    {
     "name": "stderr",
     "output_type": "stream",
     "text": [
      "C:\\ProgramData\\Anaconda3\\lib\\site-packages\\numpy\\core\\fromnumeric.py:3438: FutureWarning: In a future version, DataFrame.mean(axis=None) will return a scalar mean over the entire DataFrame. To retain the old behavior, use 'frame.mean(axis=0)' or just 'frame.mean()'\n",
      "  return mean(axis=axis, dtype=dtype, out=out, **kwargs)\n"
     ]
    }
   ],
   "source": [
    "rmseRF = mean_squared_error(y_val, predRF, squared = False)\n",
    "nrmseRF = rmseRF/np.mean(np.abs(y_val))\n",
    "scoreRF = 1.2 * np.sum(nrmseRF[:8]) + 1.0 * np.sum(nrmseRF[8:15])"
   ]
  },
  {
   "cell_type": "code",
   "execution_count": 158,
   "id": "eee4a541",
   "metadata": {},
   "outputs": [
    {
     "name": "stdout",
     "output_type": "stream",
     "text": [
      "Epoch 1/50\n",
      "276/276 [==============================] - 1s 834us/step - loss: 72.4420 - accuracy: 0.9482\n",
      "Epoch 2/50\n",
      "276/276 [==============================] - 0s 871us/step - loss: 3.6188 - accuracy: 0.9959\n",
      "Epoch 3/50\n",
      "276/276 [==============================] - 0s 890us/step - loss: 2.9166 - accuracy: 0.9959\n",
      "Epoch 4/50\n",
      "276/276 [==============================] - 0s 858us/step - loss: 2.5657 - accuracy: 0.9959\n",
      "Epoch 5/50\n",
      "276/276 [==============================] - 0s 857us/step - loss: 2.3068 - accuracy: 0.9959\n",
      "Epoch 6/50\n",
      "276/276 [==============================] - 0s 882us/step - loss: 2.0867 - accuracy: 0.9959\n",
      "Epoch 7/50\n",
      "276/276 [==============================] - 0s 873us/step - loss: 1.8588 - accuracy: 0.9959\n",
      "Epoch 8/50\n",
      "276/276 [==============================] - 0s 884us/step - loss: 1.7264 - accuracy: 0.9959\n",
      "Epoch 9/50\n",
      "276/276 [==============================] - 0s 875us/step - loss: 1.6527 - accuracy: 0.9959\n",
      "Epoch 10/50\n",
      "276/276 [==============================] - 0s 868us/step - loss: 1.6012 - accuracy: 0.9959\n",
      "Epoch 11/50\n",
      "276/276 [==============================] - 0s 864us/step - loss: 1.5777 - accuracy: 0.9959\n",
      "Epoch 12/50\n",
      "276/276 [==============================] - 0s 881us/step - loss: 1.5692 - accuracy: 0.9959\n",
      "Epoch 13/50\n",
      "276/276 [==============================] - 0s 886us/step - loss: 1.5513 - accuracy: 0.9959\n",
      "Epoch 14/50\n",
      "276/276 [==============================] - 0s 873us/step - loss: 1.5434 - accuracy: 0.9959\n",
      "Epoch 15/50\n",
      "276/276 [==============================] - 0s 884us/step - loss: 1.5326 - accuracy: 0.9959\n",
      "Epoch 16/50\n",
      "276/276 [==============================] - 0s 876us/step - loss: 1.5326 - accuracy: 0.9959\n",
      "Epoch 17/50\n",
      "276/276 [==============================] - 0s 859us/step - loss: 1.5191 - accuracy: 0.9959\n",
      "Epoch 18/50\n",
      "276/276 [==============================] - 0s 889us/step - loss: 1.5121 - accuracy: 0.9959\n",
      "Epoch 19/50\n",
      "276/276 [==============================] - 0s 877us/step - loss: 1.5167 - accuracy: 0.9959\n",
      "Epoch 20/50\n",
      "276/276 [==============================] - 0s 883us/step - loss: 1.5061 - accuracy: 0.9959\n",
      "Epoch 21/50\n",
      "276/276 [==============================] - 0s 879us/step - loss: 1.5068 - accuracy: 0.9959\n",
      "Epoch 22/50\n",
      "276/276 [==============================] - 0s 874us/step - loss: 1.5071 - accuracy: 0.9959\n",
      "Epoch 23/50\n",
      "276/276 [==============================] - 0s 879us/step - loss: 1.4887 - accuracy: 0.9959\n",
      "Epoch 24/50\n",
      "276/276 [==============================] - 0s 893us/step - loss: 1.4978 - accuracy: 0.9959\n",
      "Epoch 25/50\n",
      "276/276 [==============================] - 0s 880us/step - loss: 1.4839 - accuracy: 0.9959\n",
      "Epoch 26/50\n",
      "276/276 [==============================] - 0s 880us/step - loss: 1.4858 - accuracy: 0.9959\n",
      "Epoch 27/50\n",
      "276/276 [==============================] - 0s 858us/step - loss: 1.4789 - accuracy: 0.9959\n",
      "Epoch 28/50\n",
      "276/276 [==============================] - 0s 871us/step - loss: 1.4757 - accuracy: 0.9959\n",
      "Epoch 29/50\n",
      "276/276 [==============================] - 0s 876us/step - loss: 1.4846 - accuracy: 0.9959\n",
      "Epoch 30/50\n",
      "276/276 [==============================] - 0s 909us/step - loss: 1.4731 - accuracy: 0.9959\n",
      "Epoch 31/50\n",
      "276/276 [==============================] - 0s 874us/step - loss: 1.4751 - accuracy: 0.9959\n",
      "Epoch 32/50\n",
      "276/276 [==============================] - 0s 929us/step - loss: 1.4669 - accuracy: 0.9959\n",
      "Epoch 33/50\n",
      "276/276 [==============================] - 0s 913us/step - loss: 1.4721 - accuracy: 0.9959\n",
      "Epoch 34/50\n",
      "276/276 [==============================] - 0s 913us/step - loss: 1.4732 - accuracy: 0.9959\n",
      "Epoch 35/50\n",
      "276/276 [==============================] - 0s 907us/step - loss: 1.4695 - accuracy: 0.9959\n",
      "Epoch 36/50\n",
      "276/276 [==============================] - 0s 906us/step - loss: 1.4602 - accuracy: 0.9959\n",
      "Epoch 37/50\n",
      "276/276 [==============================] - 0s 910us/step - loss: 1.4731 - accuracy: 0.9959\n",
      "Epoch 38/50\n",
      "276/276 [==============================] - 0s 870us/step - loss: 1.4626 - accuracy: 0.9959\n",
      "Epoch 39/50\n",
      "276/276 [==============================] - 0s 899us/step - loss: 1.4609 - accuracy: 0.9959\n",
      "Epoch 40/50\n",
      "276/276 [==============================] - 0s 871us/step - loss: 1.4659 - accuracy: 0.9959\n",
      "Epoch 41/50\n",
      "276/276 [==============================] - 0s 881us/step - loss: 1.4621 - accuracy: 0.9959\n",
      "Epoch 42/50\n",
      "276/276 [==============================] - 0s 866us/step - loss: 1.4575 - accuracy: 0.9959\n",
      "Epoch 43/50\n",
      "276/276 [==============================] - 0s 887us/step - loss: 1.4562 - accuracy: 0.9959\n",
      "Epoch 44/50\n",
      "276/276 [==============================] - 0s 880us/step - loss: 1.4545 - accuracy: 0.9959\n",
      "Epoch 45/50\n",
      "276/276 [==============================] - 0s 877us/step - loss: 1.4569 - accuracy: 0.9959\n",
      "Epoch 46/50\n",
      "276/276 [==============================] - 0s 886us/step - loss: 1.4601 - accuracy: 0.9959\n",
      "Epoch 47/50\n",
      "276/276 [==============================] - 0s 1ms/step - loss: 1.4594 - accuracy: 0.9959\n",
      "Epoch 48/50\n",
      "276/276 [==============================] - 0s 897us/step - loss: 1.4519 - accuracy: 0.9959\n",
      "Epoch 49/50\n",
      "276/276 [==============================] - 0s 958us/step - loss: 1.4556 - accuracy: 0.9959\n",
      "Epoch 50/50\n",
      "276/276 [==============================] - 0s 899us/step - loss: 1.4513 - accuracy: 0.9959\n",
      "69/69 [==============================] - 0s 635us/step\n"
     ]
    }
   ],
   "source": [
    "modelDNN = Sequential()\n",
    "modelDNN.add(Dense(56, activation = \"relu\", input_dim = 48))\n",
    "modelDNN.add(Dense(56, activation = \"relu\"))\n",
    "modelDNN.add(Dense(28, activation = \"relu\"))\n",
    "modelDNN.add(Dense(14, activation = \"linear\"))\n",
    "\n",
    "modelDNN.compile(optimizer = 'adam', loss = 'mse', metrics=['accuracy'])\n",
    "modelDNN.fit(X_tr, y_tr, epochs = 50)\n",
    "\n",
    "predDNN = modelDNN.predict(X_val)"
   ]
  },
  {
   "cell_type": "code",
   "execution_count": 159,
   "id": "d03839e8",
   "metadata": {},
   "outputs": [
    {
     "name": "stderr",
     "output_type": "stream",
     "text": [
      "C:\\ProgramData\\Anaconda3\\lib\\site-packages\\numpy\\core\\fromnumeric.py:3438: FutureWarning: In a future version, DataFrame.mean(axis=None) will return a scalar mean over the entire DataFrame. To retain the old behavior, use 'frame.mean(axis=0)' or just 'frame.mean()'\n",
      "  return mean(axis=axis, dtype=dtype, out=out, **kwargs)\n"
     ]
    }
   ],
   "source": [
    "rmseDNN = mean_squared_error(y_val, predDNN, squared = False)\n",
    "nrmseDNN = rmseDNN/np.mean(np.abs(y_val))\n",
    "scoreDNN = 1.2 * np.sum(nrmseDNN[:8]) + 1.0 * np.sum(nrmseDNN[8:15])"
   ]
  },
  {
   "cell_type": "code",
   "execution_count": 160,
   "id": "8ba76500",
   "metadata": {},
   "outputs": [],
   "source": [
    "from xgboost import XGBRegressor\n",
    "modelXGB = XGBRegressor()\n",
    "modelXGB.fit(X_tr, y_tr)\n",
    "\n",
    "predXGB = modelXGB.predict(X_val)"
   ]
  },
  {
   "cell_type": "code",
   "execution_count": 161,
   "id": "d11b680e",
   "metadata": {},
   "outputs": [
    {
     "name": "stderr",
     "output_type": "stream",
     "text": [
      "C:\\ProgramData\\Anaconda3\\lib\\site-packages\\numpy\\core\\fromnumeric.py:3438: FutureWarning: In a future version, DataFrame.mean(axis=None) will return a scalar mean over the entire DataFrame. To retain the old behavior, use 'frame.mean(axis=0)' or just 'frame.mean()'\n",
      "  return mean(axis=axis, dtype=dtype, out=out, **kwargs)\n"
     ]
    }
   ],
   "source": [
    "rmseXGB = mean_squared_error(y_val, predXGB, squared = False)\n",
    "nrmseXGB = rmseXGB/np.mean(np.abs(y_val))\n",
    "scoreXGB = 1.2 * np.sum(nrmseXGB[:8]) + 1.0 * np.sum(nrmseXGB[8:15])"
   ]
  },
  {
   "cell_type": "code",
   "execution_count": 162,
   "id": "d10ac4e5",
   "metadata": {},
   "outputs": [
    {
     "name": "stdout",
     "output_type": "stream",
     "text": [
      "3.8190405973098676 3.9561385259427713 3.9941778828498973\n"
     ]
    }
   ],
   "source": [
    "print(scoreRF, scoreDNN, scoreXGB)"
   ]
  },
  {
   "cell_type": "code",
   "execution_count": null,
   "id": "e8808aaa",
   "metadata": {},
   "outputs": [],
   "source": []
  }
 ],
 "metadata": {
  "kernelspec": {
   "display_name": "Python 3 (ipykernel)",
   "language": "python",
   "name": "python3"
  },
  "language_info": {
   "codemirror_mode": {
    "name": "ipython",
    "version": 3
   },
   "file_extension": ".py",
   "mimetype": "text/x-python",
   "name": "python",
   "nbconvert_exporter": "python",
   "pygments_lexer": "ipython3",
   "version": "3.9.12"
  }
 },
 "nbformat": 4,
 "nbformat_minor": 5
}
