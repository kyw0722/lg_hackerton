{
 "cells": [
  {
   "cell_type": "code",
   "execution_count": 669,
   "id": "c983b163-329e-4dae-bff7-d3c73a85f722",
   "metadata": {},
   "outputs": [],
   "source": [
    "import pandas as pd\n",
    "import numpy as np\n",
    "import random\n",
    "import os\n",
    "import matplotlib.pyplot as plt\n",
    "from sklearn.metrics import mean_squared_error"
   ]
  },
  {
   "cell_type": "code",
   "execution_count": 670,
   "id": "63ed263c-9795-47c0-96fb-e16796755fb2",
   "metadata": {},
   "outputs": [],
   "source": [
    "def seed_everything(seed):\n",
    "    random.seed(seed)\n",
    "    os.environ['PYTHONHASHSEED'] = str(seed)\n",
    "    np.random.seed(seed)\n",
    "seed_everything(42) # Seed 고정"
   ]
  },
  {
   "cell_type": "code",
   "execution_count": 671,
   "id": "f8f5e755-6002-40ce-b49d-76bf1e2b802c",
   "metadata": {},
   "outputs": [],
   "source": [
    "df = pd.read_csv(\"./train.csv\")\n",
    "X_test = pd.read_csv(\"./test.csv\")"
   ]
  },
  {
   "cell_type": "code",
   "execution_count": 672,
   "id": "25037a4d-d0eb-470f-a374-08c6affa6f82",
   "metadata": {},
   "outputs": [],
   "source": [
    "X_train = df.iloc[ : , 1 : 57]\n",
    "X_train = X_train.astype(float)"
   ]
  },
  {
   "cell_type": "code",
   "execution_count": 673,
   "id": "38fa42e9-3323-424d-b3b9-6f9067be3869",
   "metadata": {},
   "outputs": [],
   "source": [
    "y_train = df.iloc[:, 57:]"
   ]
  },
  {
   "cell_type": "code",
   "execution_count": 674,
   "id": "2f7fd790",
   "metadata": {},
   "outputs": [],
   "source": [
    "X_test = X_test.iloc[ : , 1 : ]"
   ]
  },
  {
   "cell_type": "code",
   "execution_count": 675,
   "id": "875077f2-583f-452a-b3be-4d4cef68303d",
   "metadata": {},
   "outputs": [],
   "source": [
    "train_df = X_train[['X_49', 'X_07', 'X_03', 'X_09', 'X_52', 'X_50', 'X_13', 'X_27', 'X_46']]\n",
    "X_test = X_test[['X_49', 'X_07', 'X_03', 'X_09', 'X_52', 'X_50', 'X_13', 'X_27', 'X_46']]"
   ]
  },
  {
   "cell_type": "code",
   "execution_count": 676,
   "id": "d16da871",
   "metadata": {},
   "outputs": [],
   "source": [
    "from sklearn.model_selection import train_test_split\n",
    "#X_tr, X_val, y_tr, y_val = train_test_split(train_df, y_train, test_size = 0.2)\n",
    "X_tr, X_val, y_tr, y_val = train_test_split(train_df, y_train, test_size = 0.2, random_state = 42)"
   ]
  },
  {
   "cell_type": "code",
   "execution_count": 677,
   "id": "fd8c2deb",
   "metadata": {},
   "outputs": [],
   "source": [
    "import xgboost as xgb\n",
    "from xgboost import plot_importance\n",
    "\n",
    "d_tr = xgb.DMatrix(data = X_tr, label = y_tr)\n",
    "d_val = xgb.DMatrix(data = X_val, label = y_val)\n",
    "d_test = xgb.DMatrix(data = X_test)"
   ]
  },
  {
   "cell_type": "code",
   "execution_count": 678,
   "id": "3a6a08cc",
   "metadata": {},
   "outputs": [
    {
     "name": "stdout",
     "output_type": "stream",
     "text": [
      "[15:39:10] WARNING: /Users/runner/work/xgboost/xgboost/python-package/build/temp.macosx-11.0-arm64-3.8/xgboost/src/objective/regression_obj.cu:203: reg:linear is now deprecated in favor of reg:squarederror.\n",
      "[0]\ttrain-rmse:16.68957\teval-rmse:16.68691\n",
      "[1]\ttrain-rmse:13.37221\teval-rmse:13.36926\n",
      "[2]\ttrain-rmse:10.72327\teval-rmse:10.72011\n",
      "[3]\ttrain-rmse:8.61018\teval-rmse:8.60664\n",
      "[4]\ttrain-rmse:6.92726\teval-rmse:6.92336\n",
      "[5]\ttrain-rmse:5.59005\teval-rmse:5.58566\n",
      "[6]\ttrain-rmse:4.53137\teval-rmse:4.52638\n",
      "[7]\ttrain-rmse:3.69792\teval-rmse:3.69201\n",
      "[8]\ttrain-rmse:3.04674\teval-rmse:3.03994\n",
      "[9]\ttrain-rmse:2.54310\teval-rmse:2.53633\n",
      "[10]\ttrain-rmse:2.16035\teval-rmse:2.15280\n",
      "[11]\ttrain-rmse:1.87419\teval-rmse:1.86617\n",
      "[12]\ttrain-rmse:1.66526\teval-rmse:1.65671\n",
      "[13]\ttrain-rmse:1.51618\teval-rmse:1.50749\n",
      "[14]\ttrain-rmse:1.41116\teval-rmse:1.40373\n",
      "[15]\ttrain-rmse:1.33999\teval-rmse:1.33258\n",
      "[16]\ttrain-rmse:1.29170\teval-rmse:1.28506\n",
      "[17]\ttrain-rmse:1.25988\teval-rmse:1.25349\n",
      "[18]\ttrain-rmse:1.23847\teval-rmse:1.23240\n",
      "[19]\ttrain-rmse:1.22424\teval-rmse:1.21867\n",
      "[20]\ttrain-rmse:1.21472\teval-rmse:1.20960\n",
      "[21]\ttrain-rmse:1.20846\teval-rmse:1.20369\n",
      "[22]\ttrain-rmse:1.20420\teval-rmse:1.19997\n",
      "[23]\ttrain-rmse:1.20101\teval-rmse:1.19743\n",
      "[24]\ttrain-rmse:1.19836\teval-rmse:1.19571\n",
      "[25]\ttrain-rmse:1.19653\teval-rmse:1.19466\n",
      "[26]\ttrain-rmse:1.19496\teval-rmse:1.19385\n",
      "[27]\ttrain-rmse:1.19355\teval-rmse:1.19332\n",
      "[28]\ttrain-rmse:1.19250\teval-rmse:1.19303\n",
      "[29]\ttrain-rmse:1.19135\teval-rmse:1.19253\n",
      "[30]\ttrain-rmse:1.19028\teval-rmse:1.19237\n",
      "[31]\ttrain-rmse:1.18959\teval-rmse:1.19211\n",
      "[32]\ttrain-rmse:1.18847\teval-rmse:1.19189\n",
      "[33]\ttrain-rmse:1.18755\teval-rmse:1.19141\n",
      "[34]\ttrain-rmse:1.18672\teval-rmse:1.19121\n",
      "[35]\ttrain-rmse:1.18602\teval-rmse:1.19106\n",
      "[36]\ttrain-rmse:1.18503\teval-rmse:1.19080\n",
      "[37]\ttrain-rmse:1.18435\teval-rmse:1.19083\n",
      "[38]\ttrain-rmse:1.18349\teval-rmse:1.19081\n",
      "[39]\ttrain-rmse:1.18231\teval-rmse:1.19074\n",
      "[40]\ttrain-rmse:1.18169\teval-rmse:1.19051\n",
      "[41]\ttrain-rmse:1.18111\teval-rmse:1.19041\n",
      "[42]\ttrain-rmse:1.18050\teval-rmse:1.19044\n",
      "[43]\ttrain-rmse:1.18008\teval-rmse:1.19037\n",
      "[44]\ttrain-rmse:1.17950\teval-rmse:1.19020\n",
      "[45]\ttrain-rmse:1.17873\teval-rmse:1.19018\n",
      "[46]\ttrain-rmse:1.17814\teval-rmse:1.19023\n",
      "[47]\ttrain-rmse:1.17741\teval-rmse:1.19034\n",
      "[48]\ttrain-rmse:1.17668\teval-rmse:1.19030\n",
      "[49]\ttrain-rmse:1.17617\teval-rmse:1.19022\n",
      "[50]\ttrain-rmse:1.17553\teval-rmse:1.19024\n",
      "[51]\ttrain-rmse:1.17464\teval-rmse:1.19006\n",
      "[52]\ttrain-rmse:1.17363\teval-rmse:1.18981\n",
      "[53]\ttrain-rmse:1.17273\teval-rmse:1.18941\n",
      "[54]\ttrain-rmse:1.17207\teval-rmse:1.18950\n",
      "[55]\ttrain-rmse:1.17117\teval-rmse:1.18953\n",
      "[56]\ttrain-rmse:1.16984\teval-rmse:1.18939\n",
      "[57]\ttrain-rmse:1.16875\teval-rmse:1.18914\n",
      "[58]\ttrain-rmse:1.16826\teval-rmse:1.18908\n",
      "[59]\ttrain-rmse:1.16762\teval-rmse:1.18891\n",
      "[60]\ttrain-rmse:1.16670\teval-rmse:1.18867\n",
      "[61]\ttrain-rmse:1.16586\teval-rmse:1.18863\n",
      "[62]\ttrain-rmse:1.16528\teval-rmse:1.18864\n",
      "[63]\ttrain-rmse:1.16454\teval-rmse:1.18835\n",
      "[64]\ttrain-rmse:1.16396\teval-rmse:1.18822\n",
      "[65]\ttrain-rmse:1.16336\teval-rmse:1.18848\n",
      "[66]\ttrain-rmse:1.16268\teval-rmse:1.18846\n",
      "[67]\ttrain-rmse:1.16213\teval-rmse:1.18859\n",
      "[68]\ttrain-rmse:1.16110\teval-rmse:1.18886\n",
      "[69]\ttrain-rmse:1.16061\teval-rmse:1.18871\n",
      "[70]\ttrain-rmse:1.16014\teval-rmse:1.18861\n",
      "[71]\ttrain-rmse:1.15968\teval-rmse:1.18859\n",
      "[72]\ttrain-rmse:1.15913\teval-rmse:1.18865\n",
      "[73]\ttrain-rmse:1.15848\teval-rmse:1.18858\n",
      "[74]\ttrain-rmse:1.15781\teval-rmse:1.18860\n",
      "[75]\ttrain-rmse:1.15749\teval-rmse:1.18844\n",
      "[76]\ttrain-rmse:1.15698\teval-rmse:1.18849\n",
      "[77]\ttrain-rmse:1.15644\teval-rmse:1.18852\n",
      "[78]\ttrain-rmse:1.15614\teval-rmse:1.18848\n",
      "[79]\ttrain-rmse:1.15563\teval-rmse:1.18815\n",
      "[80]\ttrain-rmse:1.15511\teval-rmse:1.18817\n",
      "[81]\ttrain-rmse:1.15456\teval-rmse:1.18790\n",
      "[82]\ttrain-rmse:1.15411\teval-rmse:1.18774\n",
      "[83]\ttrain-rmse:1.15345\teval-rmse:1.18762\n",
      "[84]\ttrain-rmse:1.15301\teval-rmse:1.18754\n",
      "[85]\ttrain-rmse:1.15253\teval-rmse:1.18770\n",
      "[86]\ttrain-rmse:1.15229\teval-rmse:1.18770\n",
      "[87]\ttrain-rmse:1.15191\teval-rmse:1.18764\n",
      "[88]\ttrain-rmse:1.15144\teval-rmse:1.18756\n",
      "[89]\ttrain-rmse:1.15096\teval-rmse:1.18742\n",
      "[90]\ttrain-rmse:1.15043\teval-rmse:1.18754\n",
      "[91]\ttrain-rmse:1.14985\teval-rmse:1.18761\n",
      "[92]\ttrain-rmse:1.14944\teval-rmse:1.18770\n",
      "[93]\ttrain-rmse:1.14903\teval-rmse:1.18764\n",
      "[94]\ttrain-rmse:1.14848\teval-rmse:1.18759\n",
      "[95]\ttrain-rmse:1.14799\teval-rmse:1.18753\n",
      "[96]\ttrain-rmse:1.14766\teval-rmse:1.18766\n",
      "[97]\ttrain-rmse:1.14709\teval-rmse:1.18768\n",
      "[98]\ttrain-rmse:1.14659\teval-rmse:1.18755\n",
      "[99]\ttrain-rmse:1.14605\teval-rmse:1.18753\n",
      "[100]\ttrain-rmse:1.14551\teval-rmse:1.18748\n",
      "[101]\ttrain-rmse:1.14515\teval-rmse:1.18742\n",
      "[102]\ttrain-rmse:1.14447\teval-rmse:1.18745\n",
      "[103]\ttrain-rmse:1.14414\teval-rmse:1.18752\n",
      "[104]\ttrain-rmse:1.14372\teval-rmse:1.18755\n",
      "[105]\ttrain-rmse:1.14335\teval-rmse:1.18751\n",
      "[106]\ttrain-rmse:1.14290\teval-rmse:1.18736\n",
      "[107]\ttrain-rmse:1.14162\teval-rmse:1.18734\n",
      "[108]\ttrain-rmse:1.14119\teval-rmse:1.18715\n",
      "[109]\ttrain-rmse:1.14081\teval-rmse:1.18717\n",
      "[110]\ttrain-rmse:1.14038\teval-rmse:1.18722\n",
      "[111]\ttrain-rmse:1.14007\teval-rmse:1.18718\n",
      "[112]\ttrain-rmse:1.13968\teval-rmse:1.18706\n",
      "[113]\ttrain-rmse:1.13922\teval-rmse:1.18710\n",
      "[114]\ttrain-rmse:1.13895\teval-rmse:1.18705\n",
      "[115]\ttrain-rmse:1.13860\teval-rmse:1.18705\n",
      "[116]\ttrain-rmse:1.13823\teval-rmse:1.18701\n",
      "[117]\ttrain-rmse:1.13764\teval-rmse:1.18699\n",
      "[118]\ttrain-rmse:1.13706\teval-rmse:1.18727\n",
      "[119]\ttrain-rmse:1.13651\teval-rmse:1.18729\n",
      "[120]\ttrain-rmse:1.13620\teval-rmse:1.18724\n",
      "[121]\ttrain-rmse:1.13584\teval-rmse:1.18706\n",
      "[122]\ttrain-rmse:1.13556\teval-rmse:1.18711\n",
      "[123]\ttrain-rmse:1.13515\teval-rmse:1.18710\n",
      "[124]\ttrain-rmse:1.13495\teval-rmse:1.18712\n",
      "[125]\ttrain-rmse:1.13438\teval-rmse:1.18696\n",
      "[126]\ttrain-rmse:1.13389\teval-rmse:1.18694\n",
      "[127]\ttrain-rmse:1.13345\teval-rmse:1.18690\n",
      "[128]\ttrain-rmse:1.13300\teval-rmse:1.18699\n",
      "[129]\ttrain-rmse:1.13252\teval-rmse:1.18689\n",
      "[130]\ttrain-rmse:1.13223\teval-rmse:1.18694\n",
      "[131]\ttrain-rmse:1.13201\teval-rmse:1.18701\n",
      "[132]\ttrain-rmse:1.13166\teval-rmse:1.18703\n",
      "[133]\ttrain-rmse:1.13131\teval-rmse:1.18699\n",
      "[134]\ttrain-rmse:1.13088\teval-rmse:1.18703\n",
      "[135]\ttrain-rmse:1.13035\teval-rmse:1.18700\n",
      "[136]\ttrain-rmse:1.12999\teval-rmse:1.18693\n",
      "[137]\ttrain-rmse:1.12966\teval-rmse:1.18695\n",
      "[138]\ttrain-rmse:1.12928\teval-rmse:1.18688\n",
      "[139]\ttrain-rmse:1.12835\teval-rmse:1.18685\n",
      "[140]\ttrain-rmse:1.12769\teval-rmse:1.18695\n",
      "[141]\ttrain-rmse:1.12725\teval-rmse:1.18694\n",
      "[142]\ttrain-rmse:1.12685\teval-rmse:1.18691\n",
      "[143]\ttrain-rmse:1.12641\teval-rmse:1.18692\n",
      "[144]\ttrain-rmse:1.12594\teval-rmse:1.18690\n",
      "[145]\ttrain-rmse:1.12538\teval-rmse:1.18687\n",
      "[146]\ttrain-rmse:1.12499\teval-rmse:1.18704\n",
      "[147]\ttrain-rmse:1.12455\teval-rmse:1.18709\n",
      "[148]\ttrain-rmse:1.12408\teval-rmse:1.18701\n",
      "[149]\ttrain-rmse:1.12362\teval-rmse:1.18706\n"
     ]
    }
   ],
   "source": [
    "params = {'max_depth' : 3,\n",
    "          'eta' : 0.2,\n",
    "          'objective' : 'reg:linear'}\n",
    "\n",
    "modelXGB = xgb.train(params = params, dtrain = d_tr, num_boost_round = 150, evals = [(d_tr, 'train'), (d_val, 'eval')])\n",
    "predXGB = modelXGB.predict(d_val)"
   ]
  },
  {
   "cell_type": "code",
   "execution_count": 679,
   "id": "211c5cf2",
   "metadata": {},
   "outputs": [
    {
     "name": "stderr",
     "output_type": "stream",
     "text": [
      "/Users/kim-yeong-u/miniforge3/envs/ywkim/lib/python3.8/site-packages/numpy/core/fromnumeric.py:3472: FutureWarning: In a future version, DataFrame.mean(axis=None) will return a scalar mean over the entire DataFrame. To retain the old behavior, use 'frame.mean(axis=0)' or just 'frame.mean()'\n",
      "  return mean(axis=axis, dtype=dtype, out=out, **kwargs)\n"
     ]
    }
   ],
   "source": [
    "rmseXGB = mean_squared_error(y_val, predXGB, squared = False)\n",
    "nrmseXGB = rmseXGB/np.mean(np.abs(y_val))\n",
    "scoreXGB = 1.2 * np.sum(nrmseXGB[:8]) + 1.0 * np.sum(nrmseXGB[8:15])"
   ]
  },
  {
   "cell_type": "code",
   "execution_count": 680,
   "id": "8d879b35",
   "metadata": {},
   "outputs": [
    {
     "name": "stdout",
     "output_type": "stream",
     "text": [
      "3.7837948321581383\n"
     ]
    }
   ],
   "source": [
    "print(scoreXGB)"
   ]
  },
  {
   "cell_type": "code",
   "execution_count": 681,
   "id": "4baa2708",
   "metadata": {
    "scrolled": true
   },
   "outputs": [
    {
     "data": {
      "text/plain": [
       "<AxesSubplot:title={'center':'Feature importance'}, xlabel='F score', ylabel='Features'>"
      ]
     },
     "execution_count": 681,
     "metadata": {},
     "output_type": "execute_result"
    },
    {
     "data": {
      "image/png": "[encoded data removed]",
      "text/plain": [
       "<Figure size 720x864 with 1 Axes>"
      ]
     },
     "metadata": {
      "needs_background": "light"
     },
     "output_type": "display_data"
    }
   ],
   "source": [
    "from xgboost import plot_importance\n",
    "%matplotlib inline\n",
    "\n",
    "fig, ax = plt.subplots(figsize = (10, 12))\n",
    "plot_importance(modelXGB, ax = ax)"
   ]
  },
  {
   "cell_type": "code",
   "execution_count": 146,
   "id": "cbf6070e",
   "metadata": {},
   "outputs": [
    {
     "data": {
      "text/plain": [
       "['X_49',\n",
       " 'X_07',\n",
       " 'X_03',\n",
       " 'X_08',\n",
       " 'X_09',\n",
       " 'X_05',\n",
       " 'X_54',\n",
       " 'X_53',\n",
       " 'X_51',\n",
       " 'X_52',\n",
       " 'X_56',\n",
       " 'X_55',\n",
       " 'X_19',\n",
       " 'X_50',\n",
       " 'X_22',\n",
       " 'X_01',\n",
       " 'X_20',\n",
       " 'X_21',\n",
       " 'X_38',\n",
       " 'X_24',\n",
       " 'X_33',\n",
       " 'X_16',\n",
       " 'X_40',\n",
       " 'X_42',\n",
       " 'X_43',\n",
       " 'X_17',\n",
       " 'X_41',\n",
       " 'X_39',\n",
       " 'X_31',\n",
       " 'X_45',\n",
       " 'X_06',\n",
       " 'X_14',\n",
       " 'X_12',\n",
       " 'X_26',\n",
       " 'X_18',\n",
       " 'X_28',\n",
       " 'X_13',\n",
       " 'X_27',\n",
       " 'X_32',\n",
       " 'X_34',\n",
       " 'X_44',\n",
       " 'X_35',\n",
       " 'X_37',\n",
       " 'X_36',\n",
       " 'X_15',\n",
       " 'X_30',\n",
       " 'X_25',\n",
       " 'X_29',\n",
       " 'X_46',\n",
       " 'X_02',\n",
       " 'X_11',\n",
       " 'X_10']"
      ]
     },
     "execution_count": 146,
     "metadata": {},
     "output_type": "execute_result"
    }
   ],
   "source": [
    "imp_vals = modelXGB.get_score()\n",
    "sort_vals = sorted(imp_vals.items(), key = lambda x: x[1], reverse = True)\n",
    "list_keys = list(dict(sort_vals).keys())\n",
    "list_keys"
   ]
  },
  {
   "cell_type": "code",
   "execution_count": 28,
   "id": "b5a44427",
   "metadata": {},
   "outputs": [],
   "source": [
    "preds = modelXGB.predict(d_test)"
   ]
  },
  {
   "cell_type": "code",
   "execution_count": 29,
   "id": "0256c219-fe17-4da1-a555-68fd68ad4290",
   "metadata": {},
   "outputs": [],
   "source": [
    "submit = pd.read_csv('./sample_submission.csv')"
   ]
  },
  {
   "cell_type": "code",
   "execution_count": 30,
   "id": "350a7990-6c73-45f7-a96f-8be675df1183",
   "metadata": {},
   "outputs": [
    {
     "name": "stdout",
     "output_type": "stream",
     "text": [
      "Done.\n"
     ]
    }
   ],
   "source": [
    "for idx, col in enumerate(submit.columns):\n",
    "    if col=='ID':\n",
    "        continue\n",
    "    submit[col] = preds[:,idx-1]\n",
    "print('Done.')"
   ]
  },
  {
   "cell_type": "code",
   "execution_count": 31,
   "id": "e1a1591e-0cbf-4545-9ac3-8fd5deae68c2",
   "metadata": {},
   "outputs": [],
   "source": [
    "submit.to_csv('./submit.csv', index=False)"
   ]
  }
 ],
 "metadata": {
  "kernelspec": {
   "display_name": "Python 3 (ipykernel)",
   "language": "python",
   "name": "python3"
  },
  "language_info": {
   "codemirror_mode": {
    "name": "ipython",
    "version": 3
   },
   "file_extension": ".py",
   "mimetype": "text/x-python",
   "name": "python",
   "nbconvert_exporter": "python",
   "pygments_lexer": "ipython3",
   "version": "3.8.13"
  }
 },
 "nbformat": 4,
 "nbformat_minor": 5
}
